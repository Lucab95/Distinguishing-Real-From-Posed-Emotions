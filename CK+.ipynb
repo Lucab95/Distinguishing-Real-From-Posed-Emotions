{
 "cells": [
  {
   "cell_type": "code",
   "execution_count": 3,
   "metadata": {},
   "outputs": [
    {
     "name": "stdout",
     "output_type": "stream",
     "text": [
      "['Consent-for-publication.doc', 'CVPR2010_CK.pdf', 'Emotion_labels.zip', 'extended-cohn-kanade-images.zip', 'FACS_labels.zip', 'Landmarks.zip', 'README_file.pdf']\n"
     ]
    }
   ],
   "source": [
    "import numpy as np # Numerical library for operations\n",
    "import math # Mathematical library \n",
    "import glob # Iteration between paths\n",
    "from shutil import copyfile # Method to copy files\n",
    "import pandas as pd # Pandas for best data structures\n",
    "import cv2 # OpenCV V3.3.0\n",
    "import random # Random generations\n",
    "%matplotlib inline\n",
    "#pd.options.display.max_colwidth = 100\n",
    "import matplotlib.pyplot as plt #Matplot object to plot\n",
    "from sklearn.svm import SVC # SVM sklearn implementation\n",
    "from sklearn.ensemble import RandomForestClassifier # RandomForest sklearn implementation\n",
    "from sklearn import metrics # Metrics object for calculations\n",
    "from sklearn.feature_selection import RFECV # Wrapper that automatically decreases and choose best model\n",
    "from sklearn.model_selection import train_test_split # Method to split into train/test data\n",
    "from sklearn.model_selection import cross_val_score # Method for cross-validation and score together\n",
    "from sklearn.model_selection import GridSearchCV # Method with cross-validation and grid search parameters\n",
    "import pickle #lib to save the model trained into file\n",
    "\n",
    "from keras.utils import np_utils # util of Keras\n",
    "from keras.models import Sequential, Model # Types of model to be used\n",
    "from keras.layers import Dense, Dropout, Activation, Flatten # Dense layers of NN\n",
    "from keras.layers import Conv2D, MaxPooling2D # Convolution layers related of NN\n",
    "import keras.backend as K # Changing to channels_first input layout\n",
    "K.set_image_data_format('channels_first')\n",
    "K.set_floatx('float32')\n",
    "print('Backend:        {}'.format(K.backend()))\n",
    "print('Data format:    {}'.format(K.image_data_format()))\n",
    "print(os.listdir(\"Datasets/CK+\"))"
   ]
  }
 ],
 "metadata": {
  "interpreter": {
   "hash": "ea8ec4190491a60e81d15ab7e291f2470192c57c24c24bcb45e999e28e537110"
  },
  "kernelspec": {
   "display_name": "Python 3.7.11 64-bit ('tf': conda)",
   "language": "python",
   "name": "python3"
  },
  "language_info": {
   "codemirror_mode": {
    "name": "ipython",
    "version": 3
   },
   "file_extension": ".py",
   "mimetype": "text/x-python",
   "name": "python",
   "nbconvert_exporter": "python",
   "pygments_lexer": "ipython3",
   "version": "3.7.11"
  },
  "orig_nbformat": 4
 },
 "nbformat": 4,
 "nbformat_minor": 2
}
