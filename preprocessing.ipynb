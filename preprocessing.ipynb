{
 "cells": [
  {
   "cell_type": "code",
   "execution_count": 123,
   "metadata": {},
   "outputs": [],
   "source": [
    "import os\n",
    "import json\n",
    "import cv2\n",
    "import re\n",
    "# Number of fps per minute that we want to take from a video\n",
    "DESIRED_FPS= 20\n",
    "\n",
    "\"\"\"\n",
    "takes frames from a video and save them in the appropriate folder\n",
    "\"\"\"\n",
    "def video_to_frames(output_path,vid,filename):\n",
    "    print(vid)\n",
    "    cap = cv2.VideoCapture(vid)\n",
    "\n",
    "    #get fps from the video\n",
    "    video_fps = cap.get(cv2.CAP_PROP_FPS)\n",
    "\n",
    "    #calculates the number of frames to skip in order to have the desired amount\n",
    "    skip_frames= video_fps//DESIRED_FPS\n",
    "\n",
    "    curr_frame,i = 0 , 0    \n",
    "    while(cap.isOpened()):\n",
    "        curr_frame += 1\n",
    "        ret, frame = cap.read()\n",
    "        if ret == False: \n",
    "            break\n",
    "        if curr_frame % skip_frames==0:\n",
    "            i +=1\n",
    "            # cv2.imwrite(\"frame{}.jpg\".format(i), frame)\n",
    "            cv2.imwrite(os.path.join(output_path, filename +\"{:02d}.jpg\".format(i)), frame)\n",
    "    cap.release()\n",
    "# def video_to_frames(vid):\n",
    "#     print(vid)\n",
    "\n",
    "\n",
    "\"\"\"\n",
    "given a path loop through the subject and call the function to save the frames of a video\n",
    "\"\"\"\n",
    "def get_file_path(DATA_DIR):\n",
    "    label = json.load(open(\"label.txt\"))\n",
    "    print(label)\n",
    "    dirlist = os.listdir(DATA_DIR)\n",
    "    for folder in dirlist:\n",
    "        subject_path = os.path.join(DATA_DIR, folder)\n",
    "        print(subject_path)\n",
    "        for vid in os.listdir(subject_path):\n",
    "            filename= vid[0:2]\n",
    "            output_path = os.path.join(subject_path,label[vid])\n",
    "            print(output_path)\n",
    "            if not os.path.exists(output_path):\n",
    "                os.makedirs(output_path)    \n",
    "            video_to_frames(output_path,os.path.join(subject_path,vid), filename)\n",
    "        break\n",
    "        # [lambda vid: video_to_frames(os.path.join(subject_path,vid)) for vid in os.listdir(subject_path)]\n",
    "        # videos = os.listdir(DATA_DIR+\"\\\\\"+folder)\n",
    "        # print(videos)\n",
    "        \n",
    "    return \"\""
   ]
  },
  {
   "cell_type": "code",
   "execution_count": 124,
   "metadata": {},
   "outputs": [
    {
     "name": "stdout",
     "output_type": "stream",
     "text": [
      "{'D2N2Sur.MP4': 'Surprise', 'H2N2A.MP4': 'Angry', 'H2N2C.MP4': 'Contempt', 'H2N2D.MP4': 'Disgust', 'H2N2S.MP4': 'Sad', 'N2A.MP4': 'Angry', 'N2C.MP4': 'Contempt', 'N2D.MP4': 'Disgust', 'N2H.MP4': 'Happy', 'N2S.MP4': 'Sad', 'N2Sur.MP4': 'Surprise', 'S2N2H.MP4': 'Happy'}\n",
      "C:\\Users\\luca9\\Desktop\\Thesis\\Code\\Datasets\\SASE-FE database\\FakeTrue_DB\\age\n",
      "D2N2Sur.MP4 Surprise\n",
      "D2\n",
      "C:\\Users\\luca9\\Desktop\\Thesis\\Code\\Datasets\\SASE-FE database\\FakeTrue_DB\\age\\Surprise\n",
      "C:\\Users\\luca9\\Desktop\\Thesis\\Code\\Datasets\\SASE-FE database\\FakeTrue_DB\\age\\D2N2Sur.MP4\n",
      "H2N2A.MP4 Angry\n",
      "H2\n",
      "C:\\Users\\luca9\\Desktop\\Thesis\\Code\\Datasets\\SASE-FE database\\FakeTrue_DB\\age\\Angry\n",
      "C:\\Users\\luca9\\Desktop\\Thesis\\Code\\Datasets\\SASE-FE database\\FakeTrue_DB\\age\\H2N2A.MP4\n",
      "H2N2C.MP4 Contempt\n",
      "H2\n",
      "C:\\Users\\luca9\\Desktop\\Thesis\\Code\\Datasets\\SASE-FE database\\FakeTrue_DB\\age\\Contempt\n",
      "C:\\Users\\luca9\\Desktop\\Thesis\\Code\\Datasets\\SASE-FE database\\FakeTrue_DB\\age\\H2N2C.MP4\n",
      "H2N2D.MP4 Disgust\n",
      "H2\n",
      "C:\\Users\\luca9\\Desktop\\Thesis\\Code\\Datasets\\SASE-FE database\\FakeTrue_DB\\age\\Disgust\n",
      "C:\\Users\\luca9\\Desktop\\Thesis\\Code\\Datasets\\SASE-FE database\\FakeTrue_DB\\age\\H2N2D.MP4\n",
      "H2N2S.MP4 Sad\n",
      "H2\n",
      "C:\\Users\\luca9\\Desktop\\Thesis\\Code\\Datasets\\SASE-FE database\\FakeTrue_DB\\age\\Sad\n",
      "C:\\Users\\luca9\\Desktop\\Thesis\\Code\\Datasets\\SASE-FE database\\FakeTrue_DB\\age\\H2N2S.MP4\n",
      "N2A.MP4 Angry\n",
      "N2\n",
      "C:\\Users\\luca9\\Desktop\\Thesis\\Code\\Datasets\\SASE-FE database\\FakeTrue_DB\\age\\Angry\n",
      "C:\\Users\\luca9\\Desktop\\Thesis\\Code\\Datasets\\SASE-FE database\\FakeTrue_DB\\age\\N2A.MP4\n",
      "N2C.MP4 Contempt\n",
      "N2\n",
      "C:\\Users\\luca9\\Desktop\\Thesis\\Code\\Datasets\\SASE-FE database\\FakeTrue_DB\\age\\Contempt\n",
      "C:\\Users\\luca9\\Desktop\\Thesis\\Code\\Datasets\\SASE-FE database\\FakeTrue_DB\\age\\N2C.MP4\n",
      "N2D.MP4 Disgust\n",
      "N2\n",
      "C:\\Users\\luca9\\Desktop\\Thesis\\Code\\Datasets\\SASE-FE database\\FakeTrue_DB\\age\\Disgust\n",
      "C:\\Users\\luca9\\Desktop\\Thesis\\Code\\Datasets\\SASE-FE database\\FakeTrue_DB\\age\\N2D.MP4\n",
      "N2H.MP4 Happy\n",
      "N2\n",
      "C:\\Users\\luca9\\Desktop\\Thesis\\Code\\Datasets\\SASE-FE database\\FakeTrue_DB\\age\\Happy\n",
      "C:\\Users\\luca9\\Desktop\\Thesis\\Code\\Datasets\\SASE-FE database\\FakeTrue_DB\\age\\N2H.MP4\n",
      "N2S.MP4 Sad\n",
      "N2\n",
      "C:\\Users\\luca9\\Desktop\\Thesis\\Code\\Datasets\\SASE-FE database\\FakeTrue_DB\\age\\Sad\n",
      "C:\\Users\\luca9\\Desktop\\Thesis\\Code\\Datasets\\SASE-FE database\\FakeTrue_DB\\age\\N2S.MP4\n",
      "N2Sur.MP4 Surprise\n",
      "N2\n",
      "C:\\Users\\luca9\\Desktop\\Thesis\\Code\\Datasets\\SASE-FE database\\FakeTrue_DB\\age\\Surprise\n",
      "C:\\Users\\luca9\\Desktop\\Thesis\\Code\\Datasets\\SASE-FE database\\FakeTrue_DB\\age\\N2Sur.MP4\n",
      "S2N2H.MP4 Happy\n",
      "S2\n",
      "C:\\Users\\luca9\\Desktop\\Thesis\\Code\\Datasets\\SASE-FE database\\FakeTrue_DB\\age\\Happy\n",
      "C:\\Users\\luca9\\Desktop\\Thesis\\Code\\Datasets\\SASE-FE database\\FakeTrue_DB\\age\\S2N2H.MP4\n"
     ]
    },
    {
     "data": {
      "text/plain": [
       "''"
      ]
     },
     "execution_count": 124,
     "metadata": {},
     "output_type": "execute_result"
    }
   ],
   "source": [
    "DATA_DIR= r\"C:\\Users\\luca9\\Desktop\\Thesis\\Code\\Datasets\\SASE-FE database\\FakeTrue_DB\"\n",
    "get_file_path(DATA_DIR)\n",
    "# video_to_frames(r\"C:\\Users\\luca9\\Desktop\\Thesis\\Code\\Datasets\\SASE-FE database\\FakeTrue_DB\\age\\D2N2Sur.MP4\")"
   ]
  },
  {
   "cell_type": "code",
   "execution_count": null,
   "metadata": {},
   "outputs": [],
   "source": []
  }
 ],
 "metadata": {
  "interpreter": {
   "hash": "ea8ec4190491a60e81d15ab7e291f2470192c57c24c24bcb45e999e28e537110"
  },
  "kernelspec": {
   "display_name": "Python 3.7.11 64-bit ('tf': conda)",
   "language": "python",
   "name": "python3"
  },
  "language_info": {
   "codemirror_mode": {
    "name": "ipython",
    "version": 3
   },
   "file_extension": ".py",
   "mimetype": "text/x-python",
   "name": "python",
   "nbconvert_exporter": "python",
   "pygments_lexer": "ipython3",
   "version": "3.7.11"
  },
  "orig_nbformat": 4
 },
 "nbformat": 4,
 "nbformat_minor": 2
}
